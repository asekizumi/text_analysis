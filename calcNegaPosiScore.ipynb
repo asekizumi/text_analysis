{
  "nbformat": 4,
  "nbformat_minor": 0,
  "metadata": {
    "colab": {
      "name": "calcNegaPosiScore.ipynb",
      "provenance": [],
      "collapsed_sections": [],
      "authorship_tag": "ABX9TyNYPJGRVxboOfga8pj7CQRj",
      "include_colab_link": true
    },
    "kernelspec": {
      "name": "python3",
      "display_name": "Python 3"
    }
  },
  "cells": [
    {
      "cell_type": "markdown",
      "metadata": {
        "id": "view-in-github",
        "colab_type": "text"
      },
      "source": [
        "<a href=\"https://colab.research.google.com/github/JGS2020-012/text_analysis/blob/master/calcNegaPosiScore.ipynb\" target=\"_parent\"><img src=\"https://colab.research.google.com/assets/colab-badge.svg\" alt=\"Open In Colab\"/></a>"
      ]
    },
    {
      "cell_type": "code",
      "metadata": {
        "id": "1uuoswBJIMEc",
        "colab_type": "code",
        "colab": {}
      },
      "source": [
        "# 必要なライブラリをインポート\n",
        "from janome.tokenizer import Tokenizer\n",
        "from janome.analyzer import Analyzer\n",
        "from janome.charfilter import *\n",
        "from janome.tokenfilter import *\n",
        "import pathlib\n",
        "import pandas as pd \n",
        "\n",
        "# added kamegai\n",
        "import requests \n",
        "import io"
      ],
      "execution_count": 0,
      "outputs": []
    },
    {
      "cell_type": "code",
      "metadata": {
        "id": "bSHRPENT_TyH",
        "colab_type": "code",
        "colab": {}
      },
      "source": [
        "def before_filter(before_st):\n",
        "    \"\"\"\n",
        "    文書を渡すとjanomeで処理してリストで返す\n",
        "    （山崎さんのプログラムを拝借）\n",
        "    \"\"\"  \n",
        "    #Unicode正規化・半角記号除去・全角記号除去・＜＞タグ除去・改行除去\n",
        "    char_filters = [UnicodeNormalizeCharFilter('NFKC'),\n",
        "                    RegexReplaceCharFilter('[!/:%#\\$&\\?\\(\\)~\\.=\\+\\-…]+', ''),\n",
        "                    RegexReplaceCharFilter('[『！”＃＄％＆’（）＝～｜‘｛＋＊｝＜＞？＿－＾￥＠「；：」、。・]', ''),\n",
        "                    RegexReplaceCharFilter('<.*?>', ''), \n",
        "                    RegexReplaceCharFilter('[\\n|\\r|\\t]', '')\n",
        "                   ]\n",
        "    #名詞だけ取得・アルファベット小文字化・基本形\n",
        "    token_filters = [\n",
        "                     #POSKeepFilter(['名詞']),\n",
        "                     LowerCaseFilter(),\n",
        "                     ExtractAttributeFilter('base_form')]\n",
        "    #設定からフィルターを作る\n",
        "    a = Analyzer(char_filters=char_filters, token_filters=token_filters)\n",
        "    #文章をanalyzerに掛け処理する\n",
        "    after_st = a.analyze(before_st)\n",
        "    \n",
        "    #ストップワードを除去する\n",
        "    stop_words = []\n",
        "\n",
        "    # modified kamegai\n",
        "    #path = 'Japanese.txt'\n",
        "    #with open(path) as f:\n",
        "    #    stop_words = f.read().split('\\n')\n",
        "    stop_word_url = \"http://svn.sourceforge.jp/svnroot/slothlib/CSharp/Version1/SlothLib/NLP/Filter/StopWord/word/Japanese.txt\"\n",
        "    stop_word_res = requests.get(stop_word_url).content\n",
        "    stop_word_io = io.StringIO(stop_word_res.decode('utf-8'))\n",
        "    stop_words = stop_word_io.read().split('\\n')\n",
        "\n",
        "    after_st = [x for x in after_st if x not in stop_words]\n",
        "\n",
        "    return after_st"
      ],
      "execution_count": 0,
      "outputs": []
    },
    {
      "cell_type": "code",
      "metadata": {
        "id": "ZwxdlVte8nja",
        "colab_type": "code",
        "colab": {}
      },
      "source": [
        "def load_dict(url_file):\n",
        "    \"\"\"\n",
        "    極性表現辞書をロードする。\n",
        "    \"\"\"  \n",
        "    res = requests.get(url_file).content\n",
        "    lists = []\n",
        "    reader = csv.reader(io.StringIO(res.decode('utf-8')), delimiter='\\t')\n",
        "    for row in reader:\n",
        "        #print(reader.line_num,row[0])\n",
        "        lists.append(row)\n",
        "    return lists"
      ],
      "execution_count": 0,
      "outputs": []
    },
    {
      "cell_type": "code",
      "metadata": {
        "id": "b9W9ne8vd_ZB",
        "colab_type": "code",
        "colab": {}
      },
      "source": [
        "# 極性表現辞書を基にスコアリングできる状態にする。\n",
        "\n",
        "def get_sentiment_pn_dict():\n",
        "    \"\"\"\n",
        "    日本語評価極性辞書（用言編）\n",
        "           1                  2　\n",
        "    (例) ネガ（評価）\t恩 着せ が まし い\n",
        "    (方針)・1列目のネガ（評価）は-1、ポジ（評価）は1へ変換する。\n",
        "    　    ・2列目は、文字を連結して、形態素解析を行う。\n",
        "    \"\"\"\n",
        "    dict_content = load_dict('http://www.cl.ecei.tohoku.ac.jp/resources/sent_lex/wago.121808.pn')\n",
        "\n",
        "def get_sentiment_trim_dict():\n",
        "    \"\"\"\n",
        "    日本語評価極性辞書（名詞編）\n",
        "       　   1     2      3　\n",
        "    (例) ２か月   e\t  〜である・になる（状態）客観\n",
        "    (方針)・2列目のnは-1、pは1へ変換する。（p:ポジティブ、e:ニュートラル、n:ネガティブ）\n",
        "          ・3列目に・を含む場合は分割し、～を1列目で置換する。\n",
        "    \"\"\"   \n",
        "    dict_content = load_dict('http://www.cl.ecei.tohoku.ac.jp/resources/sent_lex/pn.csv.m3.120408.trim')\n",
        "\n"
      ],
      "execution_count": 0,
      "outputs": []
    },
    {
      "cell_type": "code",
      "metadata": {
        "id": "1AnHkGKUaAhO",
        "colab_type": "code",
        "colab": {}
      },
      "source": [
        "# ネガポジ表現数を基にスコアリング\n",
        "def calc_score(input_text):\n",
        "  preprocess()"
      ],
      "execution_count": 0,
      "outputs": []
    },
    {
      "cell_type": "code",
      "metadata": {
        "id": "4njyccaOeDhW",
        "colab_type": "code",
        "outputId": "caf8ae2c-0521-4a48-8437-e47d5c2f22d1",
        "colab": {
          "base_uri": "https://localhost:8080/",
          "height": 459
        }
      },
      "source": [
        "# テストプログラム\n",
        "twiite_sample = \"LINEpay使えない店でもpayカードならクレカ扱ってるとこはどこでも使えるし便利だよ〜考えてみて！\"\n",
        "before_filter(twiite_sample)\n"
      ],
      "execution_count": 27,
      "outputs": [
        {
          "output_type": "execute_result",
          "data": {
            "text/plain": [
              "['linepay',\n",
              " '使える',\n",
              " 'ない',\n",
              " '店',\n",
              " 'で',\n",
              " 'も',\n",
              " 'pay',\n",
              " 'カード',\n",
              " 'だ',\n",
              " 'クレカ',\n",
              " '扱う',\n",
              " 'てる',\n",
              " 'とこ',\n",
              " 'は',\n",
              " 'どこ',\n",
              " 'でも',\n",
              " '使える',\n",
              " 'し',\n",
              " '便利',\n",
              " 'だ',\n",
              " 'よ',\n",
              " '〜',\n",
              " '考える',\n",
              " 'て',\n",
              " 'みる',\n",
              " 'て']"
            ]
          },
          "metadata": {
            "tags": []
          },
          "execution_count": 27
        }
      ]
    },
    {
      "cell_type": "code",
      "metadata": {
        "id": "jYp5ffeR-cBE",
        "colab_type": "code",
        "colab": {
          "base_uri": "https://localhost:8080/",
          "height": 122
        },
        "outputId": "5e8d0712-02fa-44b9-e10a-b525fa3a5372"
      },
      "source": [
        ""
      ],
      "execution_count": 7,
      "outputs": [
        {
          "output_type": "stream",
          "text": [
            "Collecting janome\n",
            "\u001b[?25l  Downloading https://files.pythonhosted.org/packages/79/f0/bd7f90806132d7d9d642d418bdc3e870cfdff5947254ea3cab27480983a7/Janome-0.3.10-py2.py3-none-any.whl (21.5MB)\n",
            "\u001b[K     |████████████████████████████████| 21.5MB 1.3MB/s \n",
            "\u001b[?25hInstalling collected packages: janome\n",
            "Successfully installed janome-0.3.10\n"
          ],
          "name": "stdout"
        }
      ]
    },
    {
      "cell_type": "code",
      "metadata": {
        "id": "d3o5Hn8fc5vM",
        "colab_type": "code",
        "colab": {}
      },
      "source": [
        ""
      ],
      "execution_count": 0,
      "outputs": []
    }
  ]
}